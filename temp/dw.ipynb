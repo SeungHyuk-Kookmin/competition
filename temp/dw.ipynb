{
 "cells": [
  {
   "cell_type": "code",
   "execution_count": 4,
   "id": "e1445271",
   "metadata": {},
   "outputs": [],
   "source": [
    "import pandas as pd\n",
    "from sklearn.model_selection import train_test_split"
   ]
  },
  {
   "cell_type": "code",
   "execution_count": 3,
   "id": "2ee3da09",
   "metadata": {},
   "outputs": [],
   "source": [
    "data = pd.read_csv('practice.csv')"
   ]
  },
  {
   "cell_type": "code",
   "execution_count": 12,
   "id": "ac4e4c94",
   "metadata": {},
   "outputs": [],
   "source": [
    "X = data[['ID', '시술 유형']]\n",
    "y = data[['ID', '임신 성공 여부']]"
   ]
  },
  {
   "cell_type": "code",
   "execution_count": 13,
   "id": "bc75e566",
   "metadata": {},
   "outputs": [],
   "source": [
    "X_train, X_test, y_train, y_test = train_test_split(X, y, test_size=0.5, random_state=42)"
   ]
  },
  {
   "cell_type": "code",
   "execution_count": 14,
   "id": "d4b069f2",
   "metadata": {},
   "outputs": [
    {
     "data": {
      "text/html": [
       "<div>\n",
       "<style scoped>\n",
       "    .dataframe tbody tr th:only-of-type {\n",
       "        vertical-align: middle;\n",
       "    }\n",
       "\n",
       "    .dataframe tbody tr th {\n",
       "        vertical-align: top;\n",
       "    }\n",
       "\n",
       "    .dataframe thead th {\n",
       "        text-align: right;\n",
       "    }\n",
       "</style>\n",
       "<table border=\"1\" class=\"dataframe\">\n",
       "  <thead>\n",
       "    <tr style=\"text-align: right;\">\n",
       "      <th></th>\n",
       "      <th>ID</th>\n",
       "      <th>시술 유형</th>\n",
       "    </tr>\n",
       "  </thead>\n",
       "  <tbody>\n",
       "    <tr>\n",
       "      <th>9434</th>\n",
       "      <td>TRAIN_198516</td>\n",
       "      <td>IVF</td>\n",
       "    </tr>\n",
       "    <tr>\n",
       "      <th>3614</th>\n",
       "      <td>TRAIN_192696</td>\n",
       "      <td>IVF</td>\n",
       "    </tr>\n",
       "    <tr>\n",
       "      <th>2108</th>\n",
       "      <td>TRAIN_191190</td>\n",
       "      <td>IVF</td>\n",
       "    </tr>\n",
       "    <tr>\n",
       "      <th>7773</th>\n",
       "      <td>TRAIN_196855</td>\n",
       "      <td>IVF</td>\n",
       "    </tr>\n",
       "    <tr>\n",
       "      <th>13529</th>\n",
       "      <td>TRAIN_202611</td>\n",
       "      <td>IVF</td>\n",
       "    </tr>\n",
       "    <tr>\n",
       "      <th>...</th>\n",
       "      <td>...</td>\n",
       "      <td>...</td>\n",
       "    </tr>\n",
       "    <tr>\n",
       "      <th>11284</th>\n",
       "      <td>TRAIN_200366</td>\n",
       "      <td>IVF</td>\n",
       "    </tr>\n",
       "    <tr>\n",
       "      <th>11964</th>\n",
       "      <td>TRAIN_201046</td>\n",
       "      <td>IVF</td>\n",
       "    </tr>\n",
       "    <tr>\n",
       "      <th>5390</th>\n",
       "      <td>TRAIN_194472</td>\n",
       "      <td>IVF</td>\n",
       "    </tr>\n",
       "    <tr>\n",
       "      <th>860</th>\n",
       "      <td>TRAIN_189942</td>\n",
       "      <td>IVF</td>\n",
       "    </tr>\n",
       "    <tr>\n",
       "      <th>15795</th>\n",
       "      <td>TRAIN_204877</td>\n",
       "      <td>IVF</td>\n",
       "    </tr>\n",
       "  </tbody>\n",
       "</table>\n",
       "<p>10000 rows × 2 columns</p>\n",
       "</div>"
      ],
      "text/plain": [
       "                 ID 시술 유형\n",
       "9434   TRAIN_198516   IVF\n",
       "3614   TRAIN_192696   IVF\n",
       "2108   TRAIN_191190   IVF\n",
       "7773   TRAIN_196855   IVF\n",
       "13529  TRAIN_202611   IVF\n",
       "...             ...   ...\n",
       "11284  TRAIN_200366   IVF\n",
       "11964  TRAIN_201046   IVF\n",
       "5390   TRAIN_194472   IVF\n",
       "860    TRAIN_189942   IVF\n",
       "15795  TRAIN_204877   IVF\n",
       "\n",
       "[10000 rows x 2 columns]"
      ]
     },
     "execution_count": 14,
     "metadata": {},
     "output_type": "execute_result"
    }
   ],
   "source": [
    "X_train"
   ]
  },
  {
   "cell_type": "code",
   "execution_count": 15,
   "id": "57c36a93",
   "metadata": {},
   "outputs": [
    {
     "data": {
      "text/html": [
       "<div>\n",
       "<style scoped>\n",
       "    .dataframe tbody tr th:only-of-type {\n",
       "        vertical-align: middle;\n",
       "    }\n",
       "\n",
       "    .dataframe tbody tr th {\n",
       "        vertical-align: top;\n",
       "    }\n",
       "\n",
       "    .dataframe thead th {\n",
       "        text-align: right;\n",
       "    }\n",
       "</style>\n",
       "<table border=\"1\" class=\"dataframe\">\n",
       "  <thead>\n",
       "    <tr style=\"text-align: right;\">\n",
       "      <th></th>\n",
       "      <th>ID</th>\n",
       "      <th>시술 유형</th>\n",
       "    </tr>\n",
       "  </thead>\n",
       "  <tbody>\n",
       "    <tr>\n",
       "      <th>10650</th>\n",
       "      <td>TRAIN_199732</td>\n",
       "      <td>IVF</td>\n",
       "    </tr>\n",
       "    <tr>\n",
       "      <th>2041</th>\n",
       "      <td>TRAIN_191123</td>\n",
       "      <td>IVF</td>\n",
       "    </tr>\n",
       "    <tr>\n",
       "      <th>8668</th>\n",
       "      <td>TRAIN_197750</td>\n",
       "      <td>IVF</td>\n",
       "    </tr>\n",
       "    <tr>\n",
       "      <th>1114</th>\n",
       "      <td>TRAIN_190196</td>\n",
       "      <td>IVF</td>\n",
       "    </tr>\n",
       "    <tr>\n",
       "      <th>13902</th>\n",
       "      <td>TRAIN_202984</td>\n",
       "      <td>IVF</td>\n",
       "    </tr>\n",
       "    <tr>\n",
       "      <th>...</th>\n",
       "      <td>...</td>\n",
       "      <td>...</td>\n",
       "    </tr>\n",
       "    <tr>\n",
       "      <th>18928</th>\n",
       "      <td>TRAIN_208010</td>\n",
       "      <td>IVF</td>\n",
       "    </tr>\n",
       "    <tr>\n",
       "      <th>19296</th>\n",
       "      <td>TRAIN_208378</td>\n",
       "      <td>IVF</td>\n",
       "    </tr>\n",
       "    <tr>\n",
       "      <th>12777</th>\n",
       "      <td>TRAIN_201859</td>\n",
       "      <td>IVF</td>\n",
       "    </tr>\n",
       "    <tr>\n",
       "      <th>5279</th>\n",
       "      <td>TRAIN_194361</td>\n",
       "      <td>DI</td>\n",
       "    </tr>\n",
       "    <tr>\n",
       "      <th>11624</th>\n",
       "      <td>TRAIN_200706</td>\n",
       "      <td>IVF</td>\n",
       "    </tr>\n",
       "  </tbody>\n",
       "</table>\n",
       "<p>10000 rows × 2 columns</p>\n",
       "</div>"
      ],
      "text/plain": [
       "                 ID 시술 유형\n",
       "10650  TRAIN_199732   IVF\n",
       "2041   TRAIN_191123   IVF\n",
       "8668   TRAIN_197750   IVF\n",
       "1114   TRAIN_190196   IVF\n",
       "13902  TRAIN_202984   IVF\n",
       "...             ...   ...\n",
       "18928  TRAIN_208010   IVF\n",
       "19296  TRAIN_208378   IVF\n",
       "12777  TRAIN_201859   IVF\n",
       "5279   TRAIN_194361    DI\n",
       "11624  TRAIN_200706   IVF\n",
       "\n",
       "[10000 rows x 2 columns]"
      ]
     },
     "execution_count": 15,
     "metadata": {},
     "output_type": "execute_result"
    }
   ],
   "source": [
    "X_test"
   ]
  },
  {
   "cell_type": "code",
   "execution_count": 18,
   "id": "b96ae9ef",
   "metadata": {},
   "outputs": [],
   "source": [
    "y_train.to_csv('public.csv', index=False)"
   ]
  },
  {
   "cell_type": "code",
   "execution_count": 19,
   "id": "9ad336e1",
   "metadata": {},
   "outputs": [],
   "source": [
    "y_test.to_csv('private.csv', index=False)"
   ]
  },
  {
   "cell_type": "code",
   "execution_count": 20,
   "id": "03dc9fe3",
   "metadata": {},
   "outputs": [],
   "source": [
    "y = pd.concat([y_train, y_test], axis = 0)"
   ]
  },
  {
   "cell_type": "code",
   "execution_count": 23,
   "id": "c1f21128",
   "metadata": {},
   "outputs": [],
   "source": [
    "y['임신 성공 여부'] = 0"
   ]
  },
  {
   "cell_type": "code",
   "execution_count": 27,
   "id": "8cba6bd7",
   "metadata": {},
   "outputs": [],
   "source": [
    "y.to_csv('sample_submission.csv', index=False)"
   ]
  }
 ],
 "metadata": {
  "kernelspec": {
   "display_name": "base",
   "language": "python",
   "name": "python3"
  },
  "language_info": {
   "codemirror_mode": {
    "name": "ipython",
    "version": 3
   },
   "file_extension": ".py",
   "mimetype": "text/x-python",
   "name": "python",
   "nbconvert_exporter": "python",
   "pygments_lexer": "ipython3",
   "version": "3.12.7"
  }
 },
 "nbformat": 4,
 "nbformat_minor": 5
}
